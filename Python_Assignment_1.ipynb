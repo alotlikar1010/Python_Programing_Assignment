{
  "nbformat": 4,
  "nbformat_minor": 0,
  "metadata": {
    "colab": {
      "name": "Python_Assignment1_Sol.ipynb",
      "provenance": [],
      "collapsed_sections": []
    },
    "kernelspec": {
      "name": "python3",
      "display_name": "Python 3"
    },
    "language_info": {
      "name": "python"
    }
  },
  "cells": [
    {
      "cell_type": "markdown",
      "source": [
        "Write a Python program to print Hello Python?"
      ],
      "metadata": {
        "id": "vKLr5ONaBDNb"
      }
    },
    {
      "cell_type": "code",
      "execution_count": null,
      "metadata": {
        "colab": {
          "base_uri": "https://localhost:8080/"
        },
        "id": "d0wP0Zqz_FUd",
        "outputId": "69b5e3e4-0635-4c2c-e7f6-705b19b0b8d8"
      },
      "outputs": [
        {
          "output_type": "stream",
          "name": "stdout",
          "text": [
            "Hello World\n"
          ]
        }
      ],
      "source": [
        "print(\"Hello World\")"
      ]
    },
    {
      "cell_type": "markdown",
      "source": [
        "Write a Python program to do arithmetical operations addition and division.?"
      ],
      "metadata": {
        "id": "67c9rzaJBBPa"
      }
    },
    {
      "cell_type": "code",
      "source": [
        "a =10\n",
        "b =20\n",
        "print(\"addition\", a+b)\n",
        "print(\"division\", a/b)\n",
        "print(\"subtraction\", a-b)\n",
        "print(\"multiplication\", a*b)"
      ],
      "metadata": {
        "colab": {
          "base_uri": "https://localhost:8080/"
        },
        "id": "LTFoQcJ__O4t",
        "outputId": "6fadb762-9c85-4c66-bfe9-f76e9ea5db7a"
      },
      "execution_count": null,
      "outputs": [
        {
          "output_type": "stream",
          "name": "stdout",
          "text": [
            "addition 30\n",
            "division 0.5\n",
            "subtraction -10\n",
            "multiplication 200\n"
          ]
        }
      ]
    },
    {
      "cell_type": "markdown",
      "source": [
        "Write a Python program to find the area of a triangle?"
      ],
      "metadata": {
        "id": "VOs66WKKA_Yb"
      }
    },
    {
      "cell_type": "code",
      "source": [
        "base = 20 \n",
        "height= 120\n",
        "area_of_triangle = 1/2 *base*height\n",
        "print(\"area of triangle\",area_of_triangle)"
      ],
      "metadata": {
        "colab": {
          "base_uri": "https://localhost:8080/"
        },
        "id": "09t3tI37_nO1",
        "outputId": "c69471ac-33fb-4abb-aa8a-56c46c7a00f9"
      },
      "execution_count": null,
      "outputs": [
        {
          "output_type": "stream",
          "name": "stdout",
          "text": [
            "area of triangle 1200.0\n"
          ]
        }
      ]
    },
    {
      "cell_type": "markdown",
      "source": [
        "Write a Python program to swap two variables?"
      ],
      "metadata": {
        "id": "QiZq7RstA79E"
      }
    },
    {
      "cell_type": "code",
      "source": [
        "num1 =10\n",
        "num2 =20\n",
        "temp =num1\n",
        "num1=num2\n",
        "num2=temp\n",
        "print(\"number1\" ,num1)\n",
        "print(\"number2\", num2)"
      ],
      "metadata": {
        "colab": {
          "base_uri": "https://localhost:8080/"
        },
        "id": "dK4ksmdS_4Qr",
        "outputId": "5f61a4a8-47c9-403f-b07e-e9419a5feb84"
      },
      "execution_count": 14,
      "outputs": [
        {
          "output_type": "stream",
          "name": "stdout",
          "text": [
            "number1 20\n",
            "number2 10\n"
          ]
        }
      ]
    },
    {
      "cell_type": "markdown",
      "source": [
        "Write a Python program to generate a random number?"
      ],
      "metadata": {
        "id": "CoFgvCYIBLyE"
      }
    },
    {
      "cell_type": "code",
      "source": [
        "import random\n",
        "\n",
        "print(random.randint(0,9))\n"
      ],
      "metadata": {
        "colab": {
          "base_uri": "https://localhost:8080/"
        },
        "id": "xMM_me5GA4MI",
        "outputId": "15efccbd-2c99-43fd-c60e-3e82df2dd097"
      },
      "execution_count": null,
      "outputs": [
        {
          "output_type": "stream",
          "name": "stdout",
          "text": [
            "2\n"
          ]
        }
      ]
    },
    {
      "cell_type": "code",
      "source": [
        ""
      ],
      "metadata": {
        "id": "rrqYiQrkBXik"
      },
      "execution_count": null,
      "outputs": []
    }
  ]
}