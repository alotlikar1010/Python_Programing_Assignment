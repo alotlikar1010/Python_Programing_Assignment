{
  "nbformat": 4,
  "nbformat_minor": 0,
  "metadata": {
    "colab": {
      "name": "Assignmnet10.ipynb",
      "provenance": [],
      "collapsed_sections": []
    },
    "kernelspec": {
      "name": "python3",
      "display_name": "Python 3"
    },
    "language_info": {
      "name": "python"
    }
  },
  "cells": [
    {
      "cell_type": "markdown",
      "source": [
        "1. Write a Python program to find sum of elements in list?\n"
      ],
      "metadata": {
        "id": "WdKH_Cqt7RZX"
      }
    },
    {
      "cell_type": "code",
      "execution_count": 4,
      "metadata": {
        "colab": {
          "base_uri": "https://localhost:8080/"
        },
        "id": "z4tynCUix_5F",
        "outputId": "82209cd0-2503-4cb5-87ee-a454bb0a3c9d"
      },
      "outputs": [
        {
          "name": "stdout",
          "output_type": "stream",
          "text": [
            "Enter the number 3\n",
            "1\n",
            "5\n",
            "7\n"
          ]
        }
      ],
      "source": [
        "n= int(input(\"Enter the number \"))\n",
        "lst =[]\n",
        "product =1\n",
        "evenlst=[]\n",
        "oddlst =[]\n",
        "#insert list \n",
        "for i in range(n):\n",
        "  lst.append(int(input()))\n",
        "\n",
        "lst.sort()\n"
      ]
    },
    {
      "cell_type": "code",
      "source": [
        "print(\"sum of list is: {}\".format(sum(lst)))"
      ],
      "metadata": {
        "id": "7dfv9p2AMtc4",
        "colab": {
          "base_uri": "https://localhost:8080/"
        },
        "outputId": "6dadb0c5-671f-4512-bda4-58c7658d2c6f"
      },
      "execution_count": 5,
      "outputs": [
        {
          "output_type": "stream",
          "name": "stdout",
          "text": [
            "sum of list is: 13\n"
          ]
        }
      ]
    },
    {
      "cell_type": "markdown",
      "source": [
        " Write a Python program to Multiply all numbers in the list?"
      ],
      "metadata": {
        "id": "6dmfvcqaOuyM"
      }
    },
    {
      "cell_type": "code",
      "source": [
        "\n",
        "# product list \n",
        "for el in lst:\n",
        "  product = product*el\n",
        "\n",
        "print(\"product of a list is {}\".format(product))"
      ],
      "metadata": {
        "id": "SJRIYnp3MtaA",
        "colab": {
          "base_uri": "https://localhost:8080/"
        },
        "outputId": "ca353b06-9381-4dc2-c58c-19241f303116"
      },
      "execution_count": 6,
      "outputs": [
        {
          "output_type": "stream",
          "name": "stdout",
          "text": [
            "product of a list is 35\n"
          ]
        }
      ]
    },
    {
      "cell_type": "markdown",
      "source": [
        "\n",
        "3. Write a Python program to find smallest number in a list?"
      ],
      "metadata": {
        "id": "dr9ifIDjOtA-"
      }
    },
    {
      "cell_type": "code",
      "source": [
        "print(\"min of list is {}\".format(min(lst)))"
      ],
      "metadata": {
        "id": "LX23e21lMtW7",
        "colab": {
          "base_uri": "https://localhost:8080/"
        },
        "outputId": "a302a392-e5cc-4ebc-d54a-31f6b3713a11"
      },
      "execution_count": 7,
      "outputs": [
        {
          "output_type": "stream",
          "name": "stdout",
          "text": [
            "min of list is 1\n"
          ]
        }
      ]
    },
    {
      "cell_type": "markdown",
      "source": [
        "\n",
        "4. Write a Python program to find largest number in a list?"
      ],
      "metadata": {
        "id": "WsYillW2Oq0G"
      }
    },
    {
      "cell_type": "code",
      "source": [
        "print(\"max of list is {}\".format(max(lst)))"
      ],
      "metadata": {
        "id": "YNT8p96mMtTl",
        "colab": {
          "base_uri": "https://localhost:8080/"
        },
        "outputId": "f00479cf-b613-48cb-85b0-33a4a5f307a5"
      },
      "execution_count": 8,
      "outputs": [
        {
          "output_type": "stream",
          "name": "stdout",
          "text": [
            "max of list is 7\n"
          ]
        }
      ]
    },
    {
      "cell_type": "markdown",
      "source": [
        "\n",
        "5. Write a Python program to find second largest number in a list?"
      ],
      "metadata": {
        "id": "2gyD-Uq9OomV"
      }
    },
    {
      "cell_type": "code",
      "source": [
        "print(\"second max number is {}\".format(lst[-2]))"
      ],
      "metadata": {
        "id": "T4Vmdvg1MtQU",
        "colab": {
          "base_uri": "https://localhost:8080/"
        },
        "outputId": "8ade6449-5b2b-49c6-b640-0a9b3f7a03bd"
      },
      "execution_count": 9,
      "outputs": [
        {
          "output_type": "stream",
          "name": "stdout",
          "text": [
            "second max number is 5\n"
          ]
        }
      ]
    },
    {
      "cell_type": "markdown",
      "source": [
        "\n",
        "6. Write a Python program to find N largest elements from a list?"
      ],
      "metadata": {
        "id": "TqNjtzkdOmyr"
      }
    },
    {
      "cell_type": "code",
      "source": [
        "nlarge = int(input(\"enter the n largest number: \"))\n",
        "if n > nlarge:\n",
        "  print(\"largest elements from the list are \",lst[(n-nlarge):])\n",
        "else:\n",
        "  print(\"enterted value is larger then that list length\")\n"
      ],
      "metadata": {
        "id": "qDgD3BWwMtMn",
        "colab": {
          "base_uri": "https://localhost:8080/"
        },
        "outputId": "6a0cfe6f-1d30-46f8-ef46-8c31af3a5cba"
      },
      "execution_count": 10,
      "outputs": [
        {
          "output_type": "stream",
          "name": "stdout",
          "text": [
            "enter the n largest number: 2\n",
            "largest elements from the list are  [5, 7]\n"
          ]
        }
      ]
    },
    {
      "cell_type": "markdown",
      "source": [
        "\n",
        "7. Write a Python program to print even numbers in a list?"
      ],
      "metadata": {
        "id": "OWOppTQxOk6s"
      }
    },
    {
      "cell_type": "code",
      "source": [
        "for j in lst:\n",
        "  if j %2 ==0:\n",
        "    evenlst.append(j)\n",
        "  else:\n",
        "    oddlst.append(j)"
      ],
      "metadata": {
        "id": "gVZn9tb_MtJH"
      },
      "execution_count": 11,
      "outputs": []
    },
    {
      "cell_type": "code",
      "source": [
        "print(\"even list :{}\".format(evenlst))"
      ],
      "metadata": {
        "id": "I-TSPlD7MtBe",
        "colab": {
          "base_uri": "https://localhost:8080/"
        },
        "outputId": "d3a385dd-99f1-446e-956e-b29efaff68b1"
      },
      "execution_count": 12,
      "outputs": [
        {
          "output_type": "stream",
          "name": "stdout",
          "text": [
            "even list :[]\n"
          ]
        }
      ]
    },
    {
      "cell_type": "markdown",
      "source": [
        "\n",
        "8. Write a Python program to print odd numbers in a List?"
      ],
      "metadata": {
        "id": "O_qgi_lqOgSn"
      }
    },
    {
      "cell_type": "code",
      "source": [
        "print(\"odd list: {}\".format(oddlst))"
      ],
      "metadata": {
        "id": "PajcD4xnMs2f",
        "colab": {
          "base_uri": "https://localhost:8080/"
        },
        "outputId": "4a833e9a-36c9-42c0-c85f-29265b0a224a"
      },
      "execution_count": 13,
      "outputs": [
        {
          "output_type": "stream",
          "name": "stdout",
          "text": [
            "odd list: [1, 5, 7]\n"
          ]
        }
      ]
    },
    {
      "cell_type": "markdown",
      "source": [
        "9. Write a Python program to Remove empty List from List?"
      ],
      "metadata": {
        "id": "5wxnqkIy7WOc"
      }
    },
    {
      "cell_type": "code",
      "source": [
        "lst2 = [2,[],4,5,[],6,8,[],3]\n",
        "listArr=[ele for ele in lst2 if ele!=[]]\n",
        "print(listArr)"
      ],
      "metadata": {
        "colab": {
          "base_uri": "https://localhost:8080/"
        },
        "id": "amcXc5yz1TG4",
        "outputId": "6465d89a-cee9-476a-fc0f-cbbd18aba494"
      },
      "execution_count": 14,
      "outputs": [
        {
          "output_type": "stream",
          "name": "stdout",
          "text": [
            "[2, 4, 5, 6, 8, 3]\n"
          ]
        }
      ]
    },
    {
      "cell_type": "markdown",
      "source": [
        "\n",
        "\n",
        "10. Write a Python program to Cloning or Copying a list?\n"
      ],
      "metadata": {
        "id": "Ep0D58mOOdzC"
      }
    },
    {
      "cell_type": "code",
      "source": [
        "lst2 = lst.copy()\n",
        "print(\"copy of list {}\".format(lst2))"
      ],
      "metadata": {
        "id": "GOfhiCjgEGFk",
        "colab": {
          "base_uri": "https://localhost:8080/"
        },
        "outputId": "752f8498-f88d-4d6a-e12f-7c35fa4df17f"
      },
      "execution_count": 15,
      "outputs": [
        {
          "output_type": "stream",
          "name": "stdout",
          "text": [
            "copy of list [1, 5, 7]\n"
          ]
        }
      ]
    },
    {
      "cell_type": "markdown",
      "source": [
        "11. Write a Python program to Count occurrences of an element in a list?"
      ],
      "metadata": {
        "id": "jzE9EglnOZZ1"
      }
    },
    {
      "cell_type": "code",
      "source": [
        "countlst = int(input(\"Enter the element to find its occurance \"))\n",
        "\n",
        "print(countlst,\"has occurance only {} in list\".format(lst.count(countlst)))"
      ],
      "metadata": {
        "colab": {
          "base_uri": "https://localhost:8080/"
        },
        "id": "L1hlA0DNN9ZK",
        "outputId": "029dc310-570b-4b68-85b9-2651ee8f8a01"
      },
      "execution_count": 16,
      "outputs": [
        {
          "output_type": "stream",
          "name": "stdout",
          "text": [
            "Enter the element to find its occurance 1\n",
            "1 has occurance only 1 in list\n"
          ]
        }
      ]
    }
  ]
}