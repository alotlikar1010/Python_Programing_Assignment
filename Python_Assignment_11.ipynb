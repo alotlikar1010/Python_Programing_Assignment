{
  "nbformat": 4,
  "nbformat_minor": 0,
  "metadata": {
    "colab": {
      "provenance": []
    },
    "kernelspec": {
      "name": "python3",
      "display_name": "Python 3"
    },
    "language_info": {
      "name": "python"
    }
  },
  "cells": [
    {
      "cell_type": "code",
      "execution_count": 1,
      "metadata": {
        "colab": {
          "base_uri": "https://localhost:8080/"
        },
        "id": "D8Wvn9lwhyBW",
        "outputId": "978ea218-405a-43f6-d6cc-8b836b8e503e"
      },
      "outputs": [
        {
          "output_type": "stream",
          "name": "stdout",
          "text": [
            "Enter the string : my name is aniket\n",
            "Enter the lenth K : 2\n",
            "\n",
            "The original string ' my name is aniket '\n",
            "Words which are greater than length 2\n",
            "['name', 'aniket']\n"
          ]
        }
      ],
      "source": [
        "def wordsBiggerThanLenghtK(k,str):\n",
        "    txt = str.split()\n",
        "    listOfWords = []\n",
        "    for i in txt:\n",
        "        if len(i) > k:\n",
        "            listOfWords.append(i)\n",
        "    return listOfWords\n",
        "\n",
        "str = input(\"Enter the string : \")\n",
        "k = int(input(\"Enter the lenth K : \"))\n",
        "\n",
        "listword = wordsBiggerThanLenghtK(k,str)\n",
        "\n",
        "print(\"\\nThe original string ' {} '\".format(str))\n",
        "\n",
        "print(\"Words which are greater than length {}\".format(k))\n",
        "print(listword)"
      ]
    },
    {
      "cell_type": "markdown",
      "source": [
        "Write a Python program for removing i-th character from a string?"
      ],
      "metadata": {
        "id": "LG8Bdmosi1II"
      }
    },
    {
      "cell_type": "code",
      "source": [
        "def remove(str, i): \n",
        "  \n",
        "    for j in range(len(str)):\n",
        "        if j == i:\n",
        "            str = str.replace(str[i], \"\", 1)\n",
        "    return str      \n",
        "\n",
        "str = input(\"Enter the string : \")\n",
        "i = int(input(\"Enter the index : \"))      \n",
        "\n",
        "# Print the new string\n",
        "\n",
        "print(\"The new string : \", remove(str, i))"
      ],
      "metadata": {
        "colab": {
          "base_uri": "https://localhost:8080/"
        },
        "id": "vSzp-MI2iBqF",
        "outputId": "3a07b75b-89c6-4ea9-96dd-58c4661b849f"
      },
      "execution_count": 7,
      "outputs": [
        {
          "output_type": "stream",
          "name": "stdout",
          "text": [
            "Enter the string : supermanbatman\n",
            "Enter the index : 4\n",
            "The new string :  supemanbatman\n"
          ]
        }
      ]
    },
    {
      "cell_type": "markdown",
      "source": [
        "Write a Python program to split and join a string?"
      ],
      "metadata": {
        "id": "M5ePUapoiyRI"
      }
    },
    {
      "cell_type": "code",
      "source": [
        "str = \"this is a string\"\n",
        "str = str.split(\" \")  \n",
        "print(\"Spliting a string : \",str)\n",
        "\n",
        "\n",
        "str2 = \"-\".join(str)\n",
        "print(\"Joining a string : \",str2)"
      ],
      "metadata": {
        "colab": {
          "base_uri": "https://localhost:8080/"
        },
        "id": "x0VYAmlhiD_N",
        "outputId": "dc34dff4-be2f-4d0e-8924-04f812f03f70"
      },
      "execution_count": 6,
      "outputs": [
        {
          "output_type": "stream",
          "name": "stdout",
          "text": [
            "Spliting a string :  ['this', 'is', 'a', 'string']\n",
            "Joining a string :  this-is-a-string\n"
          ]
        }
      ]
    },
    {
      "cell_type": "markdown",
      "source": [
        "Write a Python to check if a given string is binary string or not?"
      ],
      "metadata": {
        "id": "Yxj2l3ilisX_"
      }
    },
    {
      "cell_type": "code",
      "source": [
        "def checkBinary(str):\n",
        "    binary = '01'\n",
        "    for i in range(len(str)):\n",
        "        if str[i] not in binary:\n",
        "            print('Not Binary')\n",
        "            break\n",
        "    else:\n",
        "        print('Its a Binary')\n",
        "        \n",
        "str = input(\"Enter the string : \")\n",
        "checkBinary(str)  "
      ],
      "metadata": {
        "colab": {
          "base_uri": "https://localhost:8080/"
        },
        "id": "0-AjwaDqiHg0",
        "outputId": "e32358d3-b675-4552-b1f5-f8719c82521e"
      },
      "execution_count": 5,
      "outputs": [
        {
          "output_type": "stream",
          "name": "stdout",
          "text": [
            "Enter the string : 010110\n",
            "Its a Binary\n"
          ]
        }
      ]
    },
    {
      "cell_type": "markdown",
      "source": [
        "Write a Python program to find uncommon words from two Strings?"
      ],
      "metadata": {
        "id": "MZV4OqDjio8W"
      }
    },
    {
      "cell_type": "code",
      "source": [
        "def unCommon(a,b):\n",
        "    list_a = a.split()\n",
        "    list_b = b.split()\n",
        "    unCom =''\n",
        "    \n",
        "    for i in list_a:\n",
        "        if i not in list_b:\n",
        "            unCom = unCom +\" \"+ i\n",
        "    for j in list_b:\n",
        "        if j not in list_a:\n",
        "            unCom = unCom +\" \"+ j\n",
        "    return unCom\n",
        "\n",
        "a = input(\"Enter the string a : \").lower()\n",
        "b = input(\"Enter the string b : \").lower()\n",
        "\n",
        "print(\"The list of un Common words : \", unCommon(a,b))"
      ],
      "metadata": {
        "colab": {
          "base_uri": "https://localhost:8080/"
        },
        "id": "CVHYuceXiLv0",
        "outputId": "318f9d2a-f233-4e84-d956-949866470a72"
      },
      "execution_count": 4,
      "outputs": [
        {
          "output_type": "stream",
          "name": "stdout",
          "text": [
            "Enter the string a : a wise boy with beautiful girl\n",
            "Enter the string b : a wise girl with handsome boy\n",
            "The list of un Common words :   beautiful handsome\n"
          ]
        }
      ]
    },
    {
      "cell_type": "markdown",
      "source": [
        "Write a Python to find all duplicate characters in string?"
      ],
      "metadata": {
        "id": "nXCDpH2NiZlR"
      }
    },
    {
      "cell_type": "code",
      "source": [
        "str = input(\"Enter the string a : \").lower()\n",
        "duplicate = []\n",
        "\n",
        "for i in str:\n",
        "    if str.count(i) > 1 :\n",
        "        if i not in duplicate:\n",
        "            duplicate.append(i)\n",
        "        \n",
        "duplicate"
      ],
      "metadata": {
        "colab": {
          "base_uri": "https://localhost:8080/"
        },
        "id": "8EZIdpH6iN8t",
        "outputId": "ca54a1cd-a824-4dc5-bcf0-201f20d41a0e"
      },
      "execution_count": 3,
      "outputs": [
        {
          "name": "stdout",
          "output_type": "stream",
          "text": [
            "Enter the string a : a mad man with an umbrella\n"
          ]
        },
        {
          "output_type": "execute_result",
          "data": {
            "text/plain": [
              "['a', ' ', 'm', 'n', 'l']"
            ]
          },
          "metadata": {},
          "execution_count": 3
        }
      ]
    },
    {
      "cell_type": "markdown",
      "source": [
        "Write a Python Program to check if a string contains any special character?"
      ],
      "metadata": {
        "id": "hupWFWk7iXGQ"
      }
    },
    {
      "cell_type": "code",
      "source": [
        "import string\n",
        "\n",
        "string_char = string.punctuation\n",
        "spChar = []\n",
        "\n",
        "str = input(\"Enter the string a : \").lower()\n",
        "for i in str:\n",
        "    if i in string_char:\n",
        "        spChar.append(i)\n",
        "if len(spChar) > 0:\n",
        "    print(\"String {} has special charecter/s : {}\".format(str,spChar))"
      ],
      "metadata": {
        "colab": {
          "base_uri": "https://localhost:8080/"
        },
        "id": "4ghQ9It3iSIn",
        "outputId": "409449da-343c-48ca-e676-2e208601ce59"
      },
      "execution_count": 2,
      "outputs": [
        {
          "output_type": "stream",
          "name": "stdout",
          "text": [
            "Enter the string a : 12###@sjhd\n",
            "String 12###@sjhd has special charecter/s : ['#', '#', '#', '@']\n"
          ]
        }
      ]
    }
  ]
}