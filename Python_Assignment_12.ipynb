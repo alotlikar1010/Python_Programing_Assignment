{
  "nbformat": 4,
  "nbformat_minor": 0,
  "metadata": {
    "colab": {
      "name": "Assignment12.ipynb",
      "provenance": []
    },
    "kernelspec": {
      "name": "python3",
      "display_name": "Python 3"
    },
    "language_info": {
      "name": "python"
    }
  },
  "cells": [
    {
      "cell_type": "markdown",
      "source": [
        "Write a Python program to Extract Unique values dictionary values?"
      ],
      "metadata": {
        "id": "dTkaowp1H7P5"
      }
    },
    {
      "cell_type": "code",
      "execution_count": 2,
      "metadata": {
        "colab": {
          "base_uri": "https://localhost:8080/"
        },
        "id": "Vc9ce_rzG8nQ",
        "outputId": "b350cdb3-45db-4aa4-842b-2456ed54deab"
      },
      "outputs": [
        {
          "output_type": "stream",
          "name": "stdout",
          "text": [
            "the unique values are {1, 2, 5, 6, 7, 8, 10, 11, 12}\n"
          ]
        }
      ],
      "source": [
        "test_dict = {'a' : [5, 6, 7, 8],\n",
        "             'b' : [10, 11, 7, 5],\n",
        "             'c' : [6, 12, 10, 8],\n",
        "             'd' : [1, 2, 5]}\n",
        "\n",
        "new_dict = set([el for v in test_dict.values() for el in v])\n",
        "print(\"the unique values are {}\".format(new_dict))"
      ]
    },
    {
      "cell_type": "markdown",
      "source": [
        "Write a Python program to find the sum of all items in a dictionary?"
      ],
      "metadata": {
        "id": "mPMmTW4wH5ah"
      }
    },
    {
      "cell_type": "code",
      "source": [
        "test_dict2 = {'a' : 10,\n",
        "             'b' :  11,\n",
        "             'c' : 13,\n",
        "             'd' : 65}\n",
        "sum =0\n",
        "for i in test_dict2.values():\n",
        "  sum= sum+i\n",
        "\n",
        "print(\"Sum of dictionary items are {}\".format(sum))"
      ],
      "metadata": {
        "colab": {
          "base_uri": "https://localhost:8080/"
        },
        "id": "FIhQ-JPhHZYk",
        "outputId": "8019f111-a6a2-4537-da9b-6a749f07ff04"
      },
      "execution_count": 4,
      "outputs": [
        {
          "output_type": "stream",
          "name": "stdout",
          "text": [
            "Sum of dictionary items are 99\n"
          ]
        }
      ]
    },
    {
      "cell_type": "markdown",
      "source": [
        "Write a Python program to Merging two Dictionaries?"
      ],
      "metadata": {
        "id": "zNzM3ptnI7XF"
      }
    },
    {
      "cell_type": "code",
      "source": [
        "a = { 'x': 31, 'y': 23,'a':12}\n",
        "b = { 'y': 33, 'z': 43}\n",
        "\n",
        "c=a.copy()\n",
        "c.update(b)\n",
        "\n",
        "print(c)"
      ],
      "metadata": {
        "colab": {
          "base_uri": "https://localhost:8080/"
        },
        "id": "Xu5qH-XTIXF3",
        "outputId": "114a8145-e1b3-4495-bc04-bf878b8df625"
      },
      "execution_count": 6,
      "outputs": [
        {
          "output_type": "stream",
          "name": "stdout",
          "text": [
            "{'x': 31, 'y': 33, 'a': 12, 'z': 43}\n"
          ]
        }
      ]
    },
    {
      "cell_type": "markdown",
      "source": [
        "Write a Python program to convert key-values list to flat dictionary?"
      ],
      "metadata": {
        "id": "CoadnSygJden"
      }
    },
    {
      "cell_type": "code",
      "source": [
        "test_dict = {'month' : [1, 2, 3],\n",
        "             'name' : ['Jan', 'Feb', 'March']}\n",
        "\n",
        "res = dict(zip(test_dict['month'],test_dict['name']))\n",
        "\n",
        "print(\"converted dictionary {}\".format(res))"
      ],
      "metadata": {
        "colab": {
          "base_uri": "https://localhost:8080/"
        },
        "id": "zqPehrmbJQTf",
        "outputId": "e8371971-7501-472d-dbe8-db6216dbe4b5"
      },
      "execution_count": 7,
      "outputs": [
        {
          "output_type": "stream",
          "name": "stdout",
          "text": [
            "converted dictionary {1: 'Jan', 2: 'Feb', 3: 'March'}\n"
          ]
        }
      ]
    },
    {
      "cell_type": "markdown",
      "source": [
        "Write a Python program to insertion at the beginning in OrderedDict?"
      ],
      "metadata": {
        "id": "19b7O_H5MCLL"
      }
    },
    {
      "cell_type": "code",
      "source": [
        "from collections import OrderedDict\n",
        "\n",
        "\n",
        "inordered_dict = OrderedDict([('akshat', '1'), ('nikhil', '2')])\n",
        "inordered_dict.update({'manjeet':'3'})\n",
        "inordered_dict.move_to_end('manjeet', last = False)\n",
        "\n",
        "print(inordered_dict)"
      ],
      "metadata": {
        "colab": {
          "base_uri": "https://localhost:8080/"
        },
        "id": "MAIo5vx1Kgff",
        "outputId": "6fce0a74-43cf-4baa-ff76-6abe64122130"
      },
      "execution_count": 12,
      "outputs": [
        {
          "output_type": "stream",
          "name": "stdout",
          "text": [
            "OrderedDict([('manjeet', '3'), ('akshat', '1'), ('nikhil', '2')])\n"
          ]
        }
      ]
    },
    {
      "cell_type": "markdown",
      "source": [
        "Write a Python program to check order of character in string using OrderedDict()?"
      ],
      "metadata": {
        "id": "8iw2cuG-L_s8"
      }
    },
    {
      "cell_type": "code",
      "source": [
        "from collections import OrderedDict \n",
        "def checkOrder(input,pattern):\n",
        "  pointer =0\n",
        "  dict = OrderedDict.fromkeys(input)\n",
        "  for key,item in dict.items():\n",
        "    if (key == pattern[pointer]): \n",
        "          pointer = pointer + 1\n",
        "    if (pointer == (len(pattern))):            \n",
        "          return 'true' \n",
        "  return 'false'\n",
        "\n",
        "string = input(\"enter string : \")\n",
        "pattern = input(\"Enter Pattern : \")\n",
        "if checkOrder(string,pattern):\n",
        "    print(\"Pattern matched\")\n",
        "else:\n",
        "    print(\"Pattern not matched\")"
      ],
      "metadata": {
        "colab": {
          "base_uri": "https://localhost:8080/"
        },
        "id": "e1UkNh1ZLUi2",
        "outputId": "998608b2-be4e-4a47-d366-a3dbe5b5025d"
      },
      "execution_count": 15,
      "outputs": [
        {
          "output_type": "stream",
          "name": "stdout",
          "text": [
            "enter string : abhay\n",
            "Enter Pattern : a\n",
            "Pattern matched\n"
          ]
        }
      ]
    },
    {
      "cell_type": "markdown",
      "source": [
        "Write a Python program to sort Python Dictionaries by Key or Value?"
      ],
      "metadata": {
        "id": "k48GR1rqNnaK"
      }
    },
    {
      "cell_type": "code",
      "source": [
        "a = {1:2 ,2:1 ,4:3 ,3:4 ,6:5 ,5:6 }\n",
        "\n",
        "print(sorted(a.keys()))\n",
        "\n",
        "print(sorted(a.items()))"
      ],
      "metadata": {
        "colab": {
          "base_uri": "https://localhost:8080/"
        },
        "id": "Aav1humoNrhU",
        "outputId": "bc70988f-434a-44ff-8c55-bdbc2dcdca48"
      },
      "execution_count": 13,
      "outputs": [
        {
          "output_type": "stream",
          "name": "stdout",
          "text": [
            "[1, 2, 3, 4, 5, 6]\n",
            "[(1, 2), (2, 1), (3, 4), (4, 3), (5, 6), (6, 5)]\n"
          ]
        }
      ]
    },
    {
      "cell_type": "code",
      "source": [],
      "metadata": {
        "id": "TfpH_xN_NvsE"
      },
      "execution_count": null,
      "outputs": []
    }
  ]
}