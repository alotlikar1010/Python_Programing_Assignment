{
  "nbformat": 4,
  "nbformat_minor": 0,
  "metadata": {
    "colab": {
      "name": "Python_Assignment2_Sol.ipynb",
      "provenance": []
    },
    "kernelspec": {
      "name": "python3",
      "display_name": "Python 3"
    },
    "language_info": {
      "name": "python"
    }
  },
  "cells": [
    {
      "cell_type": "markdown",
      "source": [
        "Write a Python program to convert kilometers to miles?"
      ],
      "metadata": {
        "id": "IJKHnFxbEmxF"
      }
    },
    {
      "cell_type": "code",
      "execution_count": 2,
      "metadata": {
        "id": "o9b5riQfDSKp",
        "colab": {
          "base_uri": "https://localhost:8080/"
        },
        "outputId": "67d1f0e8-7811-4884-d0d6-188588cafd37"
      },
      "outputs": [
        {
          "output_type": "stream",
          "name": "stdout",
          "text": [
            "Enter the value of Kilometer:-120\n",
            "Value of Miles  74.56439999999999\n"
          ]
        }
      ],
      "source": [
        "x = int(input(\"Enter the value of Kilometer:-\"))\n",
        "conv_factor=0.62137\n",
        "miles = x*conv_factor\n",
        "print(\"Value of Miles \", miles)"
      ]
    },
    {
      "cell_type": "markdown",
      "source": [
        "Write a Python program to convert Celsius to Fahrenheit?"
      ],
      "metadata": {
        "id": "arvee7YNGY2R"
      }
    },
    {
      "cell_type": "code",
      "source": [
        "\n",
        "f = int(input(\"Enter the value of farenheit:- \"))\n",
        "c = ((f-32)*5/9)\n",
        "print(\"Value of Celcius\",c)"
      ],
      "metadata": {
        "colab": {
          "base_uri": "https://localhost:8080/"
        },
        "id": "0iw0gQ1zFPEi",
        "outputId": "44b46253-e628-49cd-9085-861684f86f73"
      },
      "execution_count": 3,
      "outputs": [
        {
          "output_type": "stream",
          "name": "stdout",
          "text": [
            "Enter the value of farenheit:- 80\n",
            "Value of Celcius 26.666666666666668\n"
          ]
        }
      ]
    },
    {
      "cell_type": "markdown",
      "source": [
        "Write a Python program to solve quadratic equation?"
      ],
      "metadata": {
        "id": "xbv81rfRGbAq"
      }
    },
    {
      "cell_type": "code",
      "source": [
        "import cmath  \n",
        "a = float(input('Enter a: '))  \n",
        "b = float(input('Enter b: '))  \n",
        "c = float(input('Enter c: '))  \n",
        "  \n",
        "d = (b**2) - (4*a*c)  \n",
        "\n",
        "sol1 = (-b-cmath.sqrt(d))/(2*a)  \n",
        "sol2 = (-b+cmath.sqrt(d))/(2*a)  \n",
        "print('The solution are {0} and {1}'.format(sol1,sol2))   "
      ],
      "metadata": {
        "colab": {
          "base_uri": "https://localhost:8080/"
        },
        "id": "DLWm7hqlGQhs",
        "outputId": "e451e5af-2692-4d58-9490-3df48d0d9f17"
      },
      "execution_count": 4,
      "outputs": [
        {
          "output_type": "stream",
          "name": "stdout",
          "text": [
            "Enter a: 10\n",
            "Enter b: 5\n",
            "Enter c: 6\n",
            "The solution are (-0.25-0.733143914930759j) and (-0.25+0.733143914930759j)\n"
          ]
        }
      ]
    },
    {
      "cell_type": "markdown",
      "source": [
        "Write a Python program to display calendar?"
      ],
      "metadata": {
        "id": "2cVKg3Z5HfGm"
      }
    },
    {
      "cell_type": "code",
      "source": [
        "import calendar\n",
        "\n",
        "month = int(input(\"Enter the Month:- \"))\n",
        "year = int(input(\"Enter the Year:- \"))\n",
        "print(calendar.month(year,month))"
      ],
      "metadata": {
        "colab": {
          "base_uri": "https://localhost:8080/"
        },
        "id": "MtsbJm2WHX1m",
        "outputId": "9681c1c2-65d8-4b28-cc99-4b409d8e999e"
      },
      "execution_count": 7,
      "outputs": [
        {
          "output_type": "stream",
          "name": "stdout",
          "text": [
            "Enter the Month:- 5\n",
            "Enter the Year:- 2022\n",
            "      May 2022\n",
            "Mo Tu We Th Fr Sa Su\n",
            "                   1\n",
            " 2  3  4  5  6  7  8\n",
            " 9 10 11 12 13 14 15\n",
            "16 17 18 19 20 21 22\n",
            "23 24 25 26 27 28 29\n",
            "30 31\n",
            "\n"
          ]
        }
      ]
    },
    {
      "cell_type": "markdown",
      "source": [
        "Write a Python program to swap two variables without temp variable?"
      ],
      "metadata": {
        "id": "C7k0OOdWIdCu"
      }
    },
    {
      "cell_type": "code",
      "source": [
        "a =10\n",
        "b=20\n",
        "a,b = b,a\n",
        "print(a)\n",
        "print(b)"
      ],
      "metadata": {
        "colab": {
          "base_uri": "https://localhost:8080/"
        },
        "id": "Jsrce1YCIbLD",
        "outputId": "667e42e4-3ae3-4ff6-cb33-57572d149001"
      },
      "execution_count": 9,
      "outputs": [
        {
          "output_type": "stream",
          "name": "stdout",
          "text": [
            "20\n",
            "10\n"
          ]
        }
      ]
    },
    {
      "cell_type": "code",
      "source": [
        ""
      ],
      "metadata": {
        "id": "KaJ0wS_7IjE7"
      },
      "execution_count": null,
      "outputs": []
    }
  ]
}