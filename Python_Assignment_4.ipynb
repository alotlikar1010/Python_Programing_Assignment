{
  "nbformat": 4,
  "nbformat_minor": 0,
  "metadata": {
    "colab": {
      "name": "Python_Assignment_4.ipynb",
      "provenance": [],
      "collapsed_sections": []
    },
    "kernelspec": {
      "name": "python3",
      "display_name": "Python 3"
    },
    "language_info": {
      "name": "python"
    }
  },
  "cells": [
    {
      "cell_type": "markdown",
      "source": [
        "Write a Python Program to Find the Factorial of a Number?\n"
      ],
      "metadata": {
        "id": "xROtgttz5aMI"
      }
    },
    {
      "cell_type": "code",
      "execution_count": 5,
      "metadata": {
        "colab": {
          "base_uri": "https://localhost:8080/"
        },
        "id": "fbO_OfcjaPH9",
        "outputId": "9f57b9ec-8a03-43e0-faf6-2e1aa16958d4"
      },
      "outputs": [
        {
          "output_type": "stream",
          "name": "stdout",
          "text": [
            "Enter your Number: 6\n",
            "Factorial of number: 720\n"
          ]
        }
      ],
      "source": [
        "num = int(input(\"Enter your Number: \"))\n",
        "fact =1\n",
        "if(num ==1 or num==0):\n",
        "  print(\"Factorial of number is 1\")\n",
        "elif num <0:\n",
        "  print(\"Please enter positive number\")\n",
        "else:\n",
        "  for i in range(1,num+1):\n",
        "    fact = fact*i\n",
        "  print(\"Factorial of number:\" ,fact)"
      ]
    },
    {
      "cell_type": "markdown",
      "source": [
        "Write a Python Program to Display the multiplication Table?"
      ],
      "metadata": {
        "id": "cbn3p4x95eDc"
      }
    },
    {
      "cell_type": "code",
      "source": [
        "numb =int(input(\"Enter the Number: \"))\n",
        "row = int(input(\"Enter the number of rows: \"))\n",
        "for i in range(1, row+1):\n",
        "  print(numb,\"*\",i ,\"=\", num*i)"
      ],
      "metadata": {
        "colab": {
          "base_uri": "https://localhost:8080/"
        },
        "id": "ExHzYds5bfLu",
        "outputId": "6d5fb5a5-f5ad-412d-b4ee-d11c8a3f8a92"
      },
      "execution_count": 6,
      "outputs": [
        {
          "output_type": "stream",
          "name": "stdout",
          "text": [
            "Enter the Number: 5\n",
            "Enter the number of rows: 10\n",
            "5 * 1 = 5\n",
            "5 * 2 = 10\n",
            "5 * 3 = 15\n",
            "5 * 4 = 20\n",
            "5 * 5 = 25\n",
            "5 * 6 = 30\n",
            "5 * 7 = 35\n",
            "5 * 8 = 40\n",
            "5 * 9 = 45\n",
            "5 * 10 = 50\n"
          ]
        }
      ]
    },
    {
      "cell_type": "markdown",
      "source": [
        "Write a Python Program to Check Armstrong Number?"
      ],
      "metadata": {
        "id": "stpRXomF5hud"
      }
    },
    {
      "cell_type": "code",
      "source": [
        "nums = int(input(\"Enter the number: \"))\n",
        "sum=0\n",
        "temp =nums\n",
        "while temp >0:\n",
        "    last_digit =temp % 10\n",
        "    sum+=last_digit**3\n",
        "    temp//=10\n",
        "if sum == nums:\n",
        "  print(\"Armstrong Number\")\n",
        "else:\n",
        "  print(\"Not an Armstrong Number\")"
      ],
      "metadata": {
        "colab": {
          "base_uri": "https://localhost:8080/"
        },
        "id": "lqMZVkehcU96",
        "outputId": "59ae7eb3-b36a-412f-cd25-1abf59dd5285"
      },
      "execution_count": 10,
      "outputs": [
        {
          "output_type": "stream",
          "name": "stdout",
          "text": [
            "Enter the number: 407\n",
            "Armstrong Number\n"
          ]
        }
      ]
    },
    {
      "cell_type": "markdown",
      "source": [
        "Write a Python Program to Find the Sum of Natural Numbers?"
      ],
      "metadata": {
        "id": "oGaSVmkU5lD2"
      }
    },
    {
      "cell_type": "code",
      "source": [
        "n1 = int(input(\"Enter the number: \"))\n",
        "s1=0\n",
        "for i in range(1, n1+1):\n",
        "  s1+=i\n",
        "print(s1)"
      ],
      "metadata": {
        "colab": {
          "base_uri": "https://localhost:8080/"
        },
        "id": "K24fIbCXe4Vy",
        "outputId": "71ab782e-4242-4b89-bdec-2a8d1fe8b4be"
      },
      "execution_count": 15,
      "outputs": [
        {
          "output_type": "stream",
          "name": "stdout",
          "text": [
            "Enter the number: 10\n",
            "55\n"
          ]
        }
      ]
    },
    {
      "cell_type": "markdown",
      "source": [
        "\n",
        "Write a Python Program to Find Armstrong Number in an Interval?"
      ],
      "metadata": {
        "id": "lg_S5hxn5nak"
      }
    },
    {
      "cell_type": "code",
      "source": [
        "lower = 100\n",
        "upper = 2000\n",
        "\n",
        "for num in range(lower, upper + 1):\n",
        "\n",
        "   order = len(str(num))\n",
        "\n",
        "   sum = 0\n",
        "\n",
        "   temp = num\n",
        "   while temp > 0:\n",
        "       digit = temp % 10\n",
        "       sum += digit ** order\n",
        "       temp //= 10\n",
        "\n",
        "   if num == sum:\n",
        "       print(num)"
      ],
      "metadata": {
        "colab": {
          "base_uri": "https://localhost:8080/"
        },
        "id": "4xGBFwcyf0Nn",
        "outputId": "750d23dc-065d-4576-82c3-cddbd61545b5"
      },
      "execution_count": 16,
      "outputs": [
        {
          "output_type": "stream",
          "name": "stdout",
          "text": [
            "153\n",
            "370\n",
            "371\n",
            "407\n",
            "1634\n"
          ]
        }
      ]
    },
    {
      "cell_type": "markdown",
      "source": [
        "Write a Python Program to Print the Fibonacci sequence?"
      ],
      "metadata": {
        "id": "WRbY9MLD5wJ9"
      }
    },
    {
      "cell_type": "code",
      "source": [
        "nterms = int(input(\"How many terms? \"))\n",
        "\n",
        "n1, n2 = 0, 1\n",
        "count = 0\n",
        "\n",
        "if nterms <= 0:\n",
        "   print(\"Please enter a positive integer\")\n",
        "\n",
        "elif nterms == 1:\n",
        "   print(\"Fibonacci sequence upto\",nterms,\":\")\n",
        "   print(n1)\n",
        "\n",
        "else:\n",
        "   print(\"Fibonacci sequence:\")\n",
        "   while count < nterms:\n",
        "       print(n1)\n",
        "       nth = n1 + n2\n",
        "       n1 = n2\n",
        "       n2 = nth\n",
        "       count += 1"
      ],
      "metadata": {
        "colab": {
          "base_uri": "https://localhost:8080/"
        },
        "id": "HX3B1A7p42cu",
        "outputId": "f8c160a5-cc9e-4a41-dbf3-1f328f1a40dd"
      },
      "execution_count": 17,
      "outputs": [
        {
          "output_type": "stream",
          "name": "stdout",
          "text": [
            "How many terms? 5\n",
            "Fibonacci sequence:\n",
            "0\n",
            "1\n",
            "1\n",
            "2\n",
            "3\n"
          ]
        }
      ]
    }
  ]
}