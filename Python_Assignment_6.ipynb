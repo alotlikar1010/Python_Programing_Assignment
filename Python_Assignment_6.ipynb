{
  "nbformat": 4,
  "nbformat_minor": 0,
  "metadata": {
    "colab": {
      "name": "Assignmnet6.ipynb",
      "provenance": [],
      "collapsed_sections": []
    },
    "kernelspec": {
      "name": "python3",
      "display_name": "Python 3"
    },
    "language_info": {
      "name": "python"
    }
  },
  "cells": [
    {
      "cell_type": "markdown",
      "source": [
        "Write a Python Program to Display Fibonacci Sequence Using Recursion?"
      ],
      "metadata": {
        "id": "SEZ5C9OXCY4X"
      }
    },
    {
      "cell_type": "code",
      "execution_count": 1,
      "metadata": {
        "id": "jHh_715a-4Nl"
      },
      "outputs": [],
      "source": [
        "def fib(n):\n",
        "  if n<=1:\n",
        "    return n\n",
        "  else:\n",
        "    return fib(n-1)+fib(n-2)"
      ]
    },
    {
      "cell_type": "code",
      "source": [
        "n = int(input(\"Enter the number: \"))\n",
        "if n<=0:\n",
        "  print(\"Enter positive number\")\n",
        "else:\n",
        "  for i in range(n):\n",
        "    print(fib(i))"
      ],
      "metadata": {
        "colab": {
          "base_uri": "https://localhost:8080/"
        },
        "id": "gDk6BqmEBg7r",
        "outputId": "5e6a1a9c-0d66-4b6a-dcea-be9feec87de4"
      },
      "execution_count": 2,
      "outputs": [
        {
          "output_type": "stream",
          "name": "stdout",
          "text": [
            "Enter the number: 5\n",
            "0\n",
            "1\n",
            "1\n",
            "2\n",
            "3\n"
          ]
        }
      ]
    },
    {
      "cell_type": "markdown",
      "source": [
        "Write a Python Program to Find Factorial of Number Using Recursion?"
      ],
      "metadata": {
        "id": "1iDwfiDiCwQ9"
      }
    },
    {
      "cell_type": "code",
      "source": [
        "def factorial(num):\n",
        "  if num ==1 or num==0:\n",
        "    return 1\n",
        "  else:\n",
        "    return num*factorial(num-1)\n"
      ],
      "metadata": {
        "id": "CA0EkAE1CWLQ"
      },
      "execution_count": 4,
      "outputs": []
    },
    {
      "cell_type": "code",
      "source": [
        "num = int(input('Enter number: '))\n",
        "print(factorial(num))"
      ],
      "metadata": {
        "colab": {
          "base_uri": "https://localhost:8080/"
        },
        "id": "NTvP2BghDqm4",
        "outputId": "d02efcde-3127-4d60-9ed9-b4392a5859b9"
      },
      "execution_count": 7,
      "outputs": [
        {
          "output_type": "stream",
          "name": "stdout",
          "text": [
            "Enter number: 4\n",
            "24\n"
          ]
        }
      ]
    },
    {
      "cell_type": "markdown",
      "source": [
        "Write a Python Program to calculate your Body Mass Index?"
      ],
      "metadata": {
        "id": "XBOOu8TgIj1r"
      }
    },
    {
      "cell_type": "code",
      "source": [
        "h = float(input(\"enter your height in inch eg 1.78 : \"))\n",
        "w = float(input(\"enter your weight in kg eg 64 : \"))\n",
        "\n",
        "bmi = w/(h**2)\n",
        "\n",
        "print(\"The BMI is = \",round(bmi))"
      ],
      "metadata": {
        "colab": {
          "base_uri": "https://localhost:8080/"
        },
        "id": "OvbQezkGDuJU",
        "outputId": "96ac6700-f966-4f34-fc8d-7bf32e1baee0"
      },
      "execution_count": 11,
      "outputs": [
        {
          "output_type": "stream",
          "name": "stdout",
          "text": [
            "enter your height in inch eg 1.78 : 1.75\n",
            "enter your weight in kg eg 64 : 67\n",
            "The BMI is =  22\n"
          ]
        }
      ]
    },
    {
      "cell_type": "markdown",
      "source": [
        "Write a Python Program to calculate the natural logarithm of any number?"
      ],
      "metadata": {
        "id": "EAW08LVuIYcd"
      }
    },
    {
      "cell_type": "code",
      "source": [
        "import math\n",
        "x = int(input((\"Enter a number : \")))\n",
        "log = math.log(x)\n",
        "print(\"Log of {} is {}\".format(x, log))"
      ],
      "metadata": {
        "colab": {
          "base_uri": "https://localhost:8080/"
        },
        "id": "LdyVQ05-H3BR",
        "outputId": "287c0d94-0e45-48cb-8067-54da70efa958"
      },
      "execution_count": 12,
      "outputs": [
        {
          "output_type": "stream",
          "name": "stdout",
          "text": [
            "Enter a number : 4\n",
            "Log of 4 is 1.3862943611198906\n"
          ]
        }
      ]
    },
    {
      "cell_type": "markdown",
      "source": [
        " Write a Python Program for cube sum of first n natural numbers?"
      ],
      "metadata": {
        "id": "BuWIG7HvIoCz"
      }
    },
    {
      "cell_type": "code",
      "source": [
        "n = int(input(\"Enter n : \"))\n",
        "sum = 0\n",
        "for i in range(1,n+1):\n",
        "    sum+=i**3\n",
        "print(\"Cube sum of {} natural numbers is {}\".format(n,sum))"
      ],
      "metadata": {
        "colab": {
          "base_uri": "https://localhost:8080/"
        },
        "id": "NUPnq4umIcXc",
        "outputId": "38e27149-4e88-4c25-8846-727155da7e7c"
      },
      "execution_count": 13,
      "outputs": [
        {
          "output_type": "stream",
          "name": "stdout",
          "text": [
            "Enter n : 5\n",
            "Cube sum of 5 natural numbers is 225\n"
          ]
        }
      ]
    },
    {
      "cell_type": "code",
      "source": [
        ""
      ],
      "metadata": {
        "id": "uzvLNWkrIgLY"
      },
      "execution_count": null,
      "outputs": []
    }
  ]
}