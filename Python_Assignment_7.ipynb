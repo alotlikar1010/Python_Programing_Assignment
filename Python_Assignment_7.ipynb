{
  "nbformat": 4,
  "nbformat_minor": 0,
  "metadata": {
    "colab": {
      "provenance": []
    },
    "kernelspec": {
      "name": "python3",
      "display_name": "Python 3"
    },
    "language_info": {
      "name": "python"
    }
  },
  "cells": [
    {
      "cell_type": "markdown",
      "source": [
        "Write a Python Program to find sum of array?"
      ],
      "metadata": {
        "id": "XrWY7sxNKsEK"
      }
    },
    {
      "cell_type": "code",
      "execution_count": null,
      "metadata": {
        "colab": {
          "base_uri": "https://localhost:8080/"
        },
        "id": "5lVrkiNoI23n",
        "outputId": "cc6810ae-a31a-4a03-a721-6eb7dc273d68"
      },
      "outputs": [
        {
          "output_type": "stream",
          "name": "stdout",
          "text": [
            "Enter the number of array: 4\n",
            "5\n",
            "6\n",
            "7\n",
            "3\n",
            "21\n"
          ]
        }
      ],
      "source": [
        "n = int(input('Enter the number of array: '))\n",
        "sum =0\n",
        "lst=[]\n",
        "for i in range(n):\n",
        "  lst.append(int(input()))\n",
        "\n",
        "for i in range(0,len(lst)):\n",
        "  sum= sum+lst[i]\n",
        "\n",
        "print(sum)\n"
      ]
    },
    {
      "cell_type": "code",
      "source": [
        "num =int(input('Enter the number of array: '))\n",
        "big =0\n",
        "lst2=[]\n",
        "for i in range(n):\n",
        "  lst2.append(int(input()))\n",
        "\n",
        "for a in range(0, len(lst2)):\n",
        "  if big < lst2[a]:\n",
        "    big = lst2[a]\n",
        "\n",
        "print(\"Largest element in the array {} is {} \".format(lst2,big))"
      ],
      "metadata": {
        "colab": {
          "base_uri": "https://localhost:8080/"
        },
        "id": "9aSey-3HKGHF",
        "outputId": "4b12644b-d79e-4fc0-8c9b-54877e903d12"
      },
      "execution_count": null,
      "outputs": [
        {
          "output_type": "stream",
          "name": "stdout",
          "text": [
            "Enter the number of array: 3\n",
            "1\n",
            "8\n",
            "9\n",
            "Largest element in the array [1, 8, 9] is 9 \n"
          ]
        }
      ]
    },
    {
      "cell_type": "markdown",
      "source": [
        "Write a Python Program for array rotation?"
      ],
      "metadata": {
        "id": "TbdabIUaOL37"
      }
    },
    {
      "cell_type": "code",
      "source": [
        "n1 = int(input(\"Enter number of element\"))\n",
        "li=[]\n",
        "for i in range(n1):\n",
        "  li.append(int(input()))\n",
        "left_right = input(\"Enter Rotation to move left/right: \")\n",
        "rotateNum = int(input(\"Enter a number to rotate: \"))\n",
        "if rotateNum >n1:\n",
        "  print(\"rotation number should not be greater than number of array\")\n",
        "else:\n",
        "  rlst=[]\n",
        "  if left_right.upper() ==\"RIGHT\":\n",
        "    rlst[:] = li[-rotateNum:] + li[:(n1-rotateNum)]\n",
        "    print(\"After right rotation : \",rlst)\n",
        "  elif left_right.upper() ==\"LEFT\":\n",
        "     rlst[:] = li[rotateNum:n1] + li[:rotateNum]\n",
        "     print(\"After left rotation : \",rlst)\n",
        "  else:\n",
        "    print(\"Invalid Entry\") "
      ],
      "metadata": {
        "id": "my2gavHzL3vG",
        "colab": {
          "base_uri": "https://localhost:8080/"
        },
        "outputId": "814b371d-c04a-454e-e69f-f3bee389f8bc"
      },
      "execution_count": null,
      "outputs": [
        {
          "output_type": "stream",
          "name": "stdout",
          "text": [
            "Enter number of element4\n",
            "1\n",
            "3\n",
            "6\n",
            "9\n",
            "Enter Rotation to move left/right: RIGHT\n",
            "Enter a number to rotate: 2\n",
            "After right rotation :  [6, 9, 1, 3]\n"
          ]
        }
      ]
    },
    {
      "cell_type": "markdown",
      "source": [
        " Write a Python Program to Split the array and add the first part to the end?"
      ],
      "metadata": {
        "id": "S56Lnq9DQgnK"
      }
    },
    {
      "cell_type": "code",
      "source": [
        "n2 = int(input(\"Enter number of element\"))\n",
        "ls=[]\n",
        "for i in range(n2):\n",
        "  ls.append(int(input()))\n",
        "rotateNum = int(input(\"Enter a number to split: \"))\n",
        "if rotateNum >n2:\n",
        "  print(\"rotation number should not be greater than number of array\")\n",
        "else:\n",
        "  print(\"number which  user want to split:\",ls[:rotateNum])\n",
        "  rlst[:]= ls[rotateNum:n2]+ ls[:rotateNum]\n",
        "  print(\"after adding number to end\",rlst)"
      ],
      "metadata": {
        "colab": {
          "base_uri": "https://localhost:8080/"
        },
        "id": "g3UcQMLoQhQ3",
        "outputId": "23868767-347f-471f-89ff-8aca49abd763"
      },
      "execution_count": null,
      "outputs": [
        {
          "output_type": "stream",
          "name": "stdout",
          "text": [
            "Enter number of element6\n",
            "1\n",
            "2\n",
            "3\n",
            "4\n",
            "5\n",
            "6\n",
            "Enter a number to split: 3\n",
            "number which  user want to split: [1, 2, 3]\n",
            "after adding number to end [4, 5, 6, 1, 2, 3]\n"
          ]
        }
      ]
    },
    {
      "cell_type": "markdown",
      "source": [
        " Write a Python Program to check if given array is Monotonic?"
      ],
      "metadata": {
        "id": "2PzJLQ2zS8jR"
      }
    },
    {
      "cell_type": "markdown",
      "source": [
        "An array is said to be monotonic in nature if it is either continuously increasing or continuously decreasing.\n",
        "An array A is monotone increase if for all i<=j, A[i] <= A[j].\n",
        "An array A is monotone decrease if for all i<=j, A[i] >= A[j]."
      ],
      "metadata": {
        "id": "hoTei-aKWv46"
      }
    },
    {
      "cell_type": "code",
      "source": [
        "def monotonic(arr):\n",
        "  decrease =False\n",
        "  if arr[0] > arr[1]:\n",
        "    decrease =True\n",
        "  for i in range(len(arr)-1):\n",
        "    if arr[i] < arr[i+1] and decrease or  arr[i] > arr[i+1] and not decrease:\n",
        "      return False\n",
        "  return True\n",
        "\n"
      ],
      "metadata": {
        "id": "Xj7FSpENTASV"
      },
      "execution_count": null,
      "outputs": []
    },
    {
      "cell_type": "code",
      "source": [
        "print(monotonic([1,2,3,4,5,6]))\n",
        "print(monotonic([1,7,3,9,5,6]))\n",
        "print(monotonic([6,5,4,3,2,1]))"
      ],
      "metadata": {
        "colab": {
          "base_uri": "https://localhost:8080/"
        },
        "id": "sKNJls4zb9CB",
        "outputId": "b59df70a-4e27-4699-9610-67b9bb96e4b8"
      },
      "execution_count": null,
      "outputs": [
        {
          "output_type": "stream",
          "name": "stdout",
          "text": [
            "True\n",
            "False\n",
            "True\n"
          ]
        }
      ]
    },
    {
      "cell_type": "code",
      "source": [],
      "metadata": {
        "id": "hopsT-KZcJFm"
      },
      "execution_count": null,
      "outputs": []
    }
  ]
}