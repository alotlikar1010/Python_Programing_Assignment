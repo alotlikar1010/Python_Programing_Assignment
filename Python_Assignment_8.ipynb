{
  "nbformat": 4,
  "nbformat_minor": 0,
  "metadata": {
    "colab": {
      "name": "Assignmnet8.ipynb",
      "provenance": [],
      "collapsed_sections": []
    },
    "kernelspec": {
      "name": "python3",
      "display_name": "Python 3"
    },
    "language_info": {
      "name": "python"
    }
  },
  "cells": [
    {
      "cell_type": "markdown",
      "source": [
        "Write a Python Program to Add Two Matrices?\n",
        "\n",
        "---\n",
        "\n",
        "\n",
        "Write a Python Program to Multiply Two Matrices?\n",
        "\n",
        "---\n",
        "\n",
        "\n",
        "Write a Python Program to Transpose a Matrix?"
      ],
      "metadata": {
        "id": "dBdUAno0cFuQ"
      }
    },
    {
      "cell_type": "code",
      "execution_count": 19,
      "metadata": {
        "id": "w3pvVBZyb6M5"
      },
      "outputs": [],
      "source": [
        "def initializeMatrix(n,v=0):\n",
        "    M=[]             \n",
        "    for i in range(n):\n",
        "        \n",
        "        row =[]\n",
        "        for j in range(n):\n",
        "            row.append(v)\n",
        "        M.append(row)\n",
        "    return(M)\n",
        "\n",
        "def createMatrix(n):\n",
        "    \n",
        "    M=[]             \n",
        "    print(\"Enter the element :\")\n",
        "    for i in range(n):\n",
        "       \n",
        "        row =[]\n",
        "        for j in range(n):\n",
        "            row.append(int(input()))\n",
        "        M.append(row)\n",
        "    return(M)\n",
        "\n",
        "def printMatrix(M,n):\n",
        "    for i in range(n):\n",
        "        for j in range(n):\n",
        "            print(M[i][j], end=\" \")\n",
        "        print() \n",
        "def mulMatrix(A,B,result):        \n",
        "    for i in range(len(A)):\n",
        "        for j in range(len(B[0])):\n",
        "            for k in range(len(B)):\n",
        "                result[i][j] = result[i][j] + A[i][k] * B[k][j]\n",
        "    return result\n",
        "def sumMatrix(A,B,res):\n",
        "  for i in range(len(A)):\n",
        "    for j in range(len(B)):\n",
        "      res[i][j]= A[i][j]+B[i][j]\n",
        "  return res\n",
        "\n",
        "def TransposeMatrix(A,n,res):\n",
        "  for i in range(n):\n",
        "    for j in range(n):\n",
        "      res[i][j]=A[j][i]\n",
        "  return res"
      ]
    },
    {
      "cell_type": "code",
      "source": [
        "\n",
        "  n=int(input(\"Enter N for N x N matrix: \"))       \n",
        "  M1 = createMatrix(n)\n",
        "  print(\"Display Array M1 In Matrix Form\")\n",
        "  printMatrix(M1,n)\n",
        "  M2 = createMatrix(n)\n",
        "  print(\"Display Array M2 In Matrix Form\")\n",
        "  printMatrix(M2,n)\n",
        "   # Add Two Matrix\n",
        "  sumRes = initializeMatrix(n)\n",
        "  sumRes = sumMatrix(M1,M2,sumRes)\n",
        "  print(\"Sum Matrix\")\n",
        "  for j in sumRes:\n",
        "    print(j)\n",
        "  #multiply two matrix\n",
        "  MulRes = initializeMatrix(n)\n",
        "  MulRes = mulMatrix(M1,M2,MulRes)\n",
        "  print(\"Product Matrix\")\n",
        "  for j in MulRes:\n",
        "    print(j)\n",
        " #Transpose Matrix\n",
        "  TRes = initializeMatrix(n)\n",
        "  TRes2 = initializeMatrix(n)\n",
        "  TRes= TransposeMatrix(M1,n,TRes)\n",
        "  TRes2= TransposeMatrix(M2,n,TRes2)\n",
        "  print(\"Transpose Matrix M1\")\n",
        "  for j in TRes:\n",
        "    print(j)\n",
        "  print(\"Transpose Matrix M2\")\n",
        "  for j in TRes2:\n",
        "    print(j)\n"
      ],
      "metadata": {
        "colab": {
          "base_uri": "https://localhost:8080/"
        },
        "id": "_QqE6QFFdrAE",
        "outputId": "e4237a9f-23a4-48ae-f063-d04a711eeef5"
      },
      "execution_count": 22,
      "outputs": [
        {
          "output_type": "stream",
          "name": "stdout",
          "text": [
            "Enter N for N x N matrix: 2\n",
            "Enter the element :\n",
            "7\n",
            "8\n",
            "9\n",
            "0\n",
            "Display Array M1 In Matrix Form\n",
            "7 8 \n",
            "9 0 \n",
            "Enter the element :\n",
            "6\n",
            "8\n",
            "5\n",
            "8\n",
            "Display Array M2 In Matrix Form\n",
            "6 8 \n",
            "5 8 \n",
            "Sum Matrix\n",
            "[13, 16]\n",
            "[14, 8]\n",
            "Product Matrix\n",
            "[82, 120]\n",
            "[54, 72]\n",
            "Transpose Matrix M1\n",
            "[7, 9]\n",
            "[8, 0]\n",
            "Transpose Matrix M2\n",
            "[6, 5]\n",
            "[8, 8]\n"
          ]
        }
      ]
    },
    {
      "cell_type": "markdown",
      "source": [
        "Write a Python Program to Sort Words in Alphabetic Order?"
      ],
      "metadata": {
        "id": "kiCWXlLFmnp7"
      }
    },
    {
      "cell_type": "code",
      "source": [
        "st= \"A compound sentence refers to a sentence made up of two independent clauses\"\n",
        "words= st.split()\n",
        "words.sort()\n",
        "for word in words:\n",
        "  print(word, end=' ')\n"
      ],
      "metadata": {
        "colab": {
          "base_uri": "https://localhost:8080/"
        },
        "id": "CcQGaAf9e8ol",
        "outputId": "a6d7944b-9cd0-4bad-c626-9c617b1cd099"
      },
      "execution_count": 31,
      "outputs": [
        {
          "output_type": "stream",
          "name": "stdout",
          "text": [
            "A a clauses compound independent made of refers sentence sentence to two up "
          ]
        }
      ]
    },
    {
      "cell_type": "markdown",
      "source": [
        "Write a Python Program to Remove Punctuation From a String?"
      ],
      "metadata": {
        "id": "veCOHLFVn0GR"
      }
    },
    {
      "cell_type": "code",
      "source": [
        "punctuations = '''!()-[]{};:'\"\\,<>./?@#$%^&*_~'''\n",
        "no_pun =''\n",
        "s = input(\"Enter a string \")\n",
        "for i in s:\n",
        "  if i not in punctuations:\n",
        "    no_pun = no_pun+i\n",
        "print(no_pun)"
      ],
      "metadata": {
        "colab": {
          "base_uri": "https://localhost:8080/"
        },
        "id": "0O3eE7DTnQk8",
        "outputId": "dd084ab6-fa5a-48ef-82a4-b4eb471451d7"
      },
      "execution_count": 29,
      "outputs": [
        {
          "output_type": "stream",
          "name": "stdout",
          "text": [
            "Enter a string My name, is @aniket.....\n",
            "My name is aniket\n"
          ]
        }
      ]
    },
    {
      "cell_type": "code",
      "source": [
        ""
      ],
      "metadata": {
        "id": "zQ5k0NmaoY-Z"
      },
      "execution_count": null,
      "outputs": []
    }
  ]
}