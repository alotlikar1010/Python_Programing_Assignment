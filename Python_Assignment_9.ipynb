{
  "nbformat": 4,
  "nbformat_minor": 0,
  "metadata": {
    "colab": {
      "provenance": []
    },
    "kernelspec": {
      "name": "python3",
      "display_name": "Python 3"
    },
    "language_info": {
      "name": "python"
    }
  },
  "cells": [
    {
      "cell_type": "markdown",
      "source": [
        "1.Write a Python program to check if the given number is a Disarium Number?\n",
        "\n",
        "---\n",
        "2.Write a Python program to print all disarium numbers between 1 to 100?\n"
      ],
      "metadata": {
        "id": "C_I0RFv6xL4w"
      }
    },
    {
      "cell_type": "markdown",
      "source": [
        "Input   : n = 135\n",
        "Output  : Yes \n",
        "1^1 + 3^2 + 5^3 = 135\n",
        "Therefore, 135 is a Disarium number\n",
        "\n",
        "\n",
        "---\n",
        "\n",
        "\n",
        "Input   : n = 80\n",
        "Output  : No\n",
        "8^1 + 0^2 = 8"
      ],
      "metadata": {
        "id": "Oe7lZMsKxMPN"
      }
    },
    {
      "cell_type": "code",
      "execution_count": null,
      "metadata": {
        "id": "0i2XTdgcvZPX"
      },
      "outputs": [],
      "source": [
        "def Disarium(num):\n",
        "  sum=0\n",
        "  while(num >0):\n",
        "    digcount = len(str(num))\n",
        "    rem = num%10\n",
        "    sum = sum + rem**digcount\n",
        "    digcount= digcount-1\n",
        "    num = num//10\n",
        "  return sum\n"
      ]
    },
    {
      "cell_type": "code",
      "source": [
        "num = int(input(\"Enter the number: \"))\n",
        "sum = Disarium(num)\n",
        "if sum == num:\n",
        "  print(\"Disarium Number\")\n",
        "else:\n",
        "  print(\"Not a Disarium Number\")"
      ],
      "metadata": {
        "colab": {
          "base_uri": "https://localhost:8080/"
        },
        "id": "Iezk4iTCwLkB",
        "outputId": "73ad7fa5-8f71-4c4b-887b-8441cd7256e5"
      },
      "execution_count": null,
      "outputs": [
        {
          "output_type": "stream",
          "name": "stdout",
          "text": [
            "Enter the number: 135\n",
            "Disarium Number\n"
          ]
        }
      ]
    },
    {
      "cell_type": "code",
      "source": [
        "print(\"Disarium Number in range 1 -100\")\n",
        "D =[]\n",
        "for i in range(1,101):\n",
        "  sum =0\n",
        "  sum = Disarium(i)\n",
        "  if sum == i:\n",
        "    D.append(i)\n",
        "print(D)"
      ],
      "metadata": {
        "colab": {
          "base_uri": "https://localhost:8080/"
        },
        "id": "jDPuu3d-wkiC",
        "outputId": "11e53f65-d544-43c9-eca0-1e93050ce2a7"
      },
      "execution_count": null,
      "outputs": [
        {
          "output_type": "stream",
          "name": "stdout",
          "text": [
            "Disarium Number in range 1 -100\n",
            "[1, 2, 3, 4, 5, 6, 7, 8, 9, 89]\n"
          ]
        }
      ]
    },
    {
      "cell_type": "markdown",
      "source": [
        "3.Write a Python program to check if the given number is Happy Number?\n",
        "\n",
        "---\n",
        "\n",
        "\n",
        "\n",
        "---\n",
        "\n",
        "\n",
        "4.Write a Python program to print all happy numbers between 1 and 100?"
      ],
      "metadata": {
        "id": "QNd7LpNAykL0"
      }
    },
    {
      "cell_type": "code",
      "source": [
        "def HappyNum(num):\n",
        "  sum =0\n",
        "  while(num >0):\n",
        "    rem = num %10\n",
        "    sum = sum+rem*rem\n",
        "    num =num//10\n",
        "  return sum\n",
        "  "
      ],
      "metadata": {
        "id": "15sjrRx3x_rD"
      },
      "execution_count": null,
      "outputs": []
    },
    {
      "cell_type": "code",
      "source": [
        "n = int(input(\"Enter Number: \"))\n",
        "result = n\n",
        "while(result!=1 and result!=4):\n",
        "   result =HappyNum(result)\n",
        "if(result == 1):  \n",
        "    print(\" happy number\");  \n",
        "elif(result == 4):  \n",
        "    print(\" not a happy number\");     "
      ],
      "metadata": {
        "colab": {
          "base_uri": "https://localhost:8080/"
        },
        "id": "TFutfAftzoA_",
        "outputId": "6a6d979e-7337-4c0a-a789-1b32410e9bb0"
      },
      "execution_count": null,
      "outputs": [
        {
          "output_type": "stream",
          "name": "stdout",
          "text": [
            "Enter Number: 82\n",
            " happy number\n"
          ]
        }
      ]
    },
    {
      "cell_type": "code",
      "source": [
        "print(\"Happy numbers in range 1 to 100\")\n",
        "result=n=i=0\n",
        "happyNum = []\n",
        "for i in range(1,101):\n",
        "    result = i\n",
        "    while (result != 1 and result != 4):\n",
        "        result = HappyNum(result)    \n",
        "    if result == 1:\n",
        "        happyNum.append(i)\n",
        "print(happyNum)"
      ],
      "metadata": {
        "colab": {
          "base_uri": "https://localhost:8080/"
        },
        "id": "tf3ULf3N0QTA",
        "outputId": "e20d684d-0c2e-4fd3-d721-adb1bec7395f"
      },
      "execution_count": null,
      "outputs": [
        {
          "output_type": "stream",
          "name": "stdout",
          "text": [
            "Happy numbers in range 1 to 100\n",
            "[1, 7, 10, 13, 19, 23, 28, 31, 32, 44, 49, 68, 70, 79, 82, 86, 91, 94, 97, 100]\n"
          ]
        }
      ]
    },
    {
      "cell_type": "markdown",
      "source": [
        "5.Write a Python program to determine whether the given number is a Harshad Number?\n"
      ],
      "metadata": {
        "id": "QzvRXY_10xbx"
      }
    },
    {
      "cell_type": "code",
      "source": [
        "def digitSum(num):\n",
        "    sum = 0\n",
        "    while(num>0):\n",
        "        digit = num%10\n",
        "        sum= sum + digit       \n",
        "        num = num//10\n",
        "    return sum\n",
        "\n",
        "num = int(input(\"Enter the number :\"))\n",
        "sum = digitSum(num)\n",
        "\n",
        "if num % sum == 0:\n",
        "    print(num,\"Is a Harshad number\")\n",
        "else:\n",
        "    print(num,\"Is not a Harshad number\")"
      ],
      "metadata": {
        "id": "_XWgK8pL0kj3",
        "colab": {
          "base_uri": "https://localhost:8080/"
        },
        "outputId": "95feca6f-df54-4fe1-debf-455472b368e2"
      },
      "execution_count": null,
      "outputs": [
        {
          "output_type": "stream",
          "name": "stdout",
          "text": [
            "Enter the number :156\n",
            "156 Is a Harshad number\n"
          ]
        }
      ]
    },
    {
      "cell_type": "markdown",
      "source": [
        "6.Write a Python program to print all pronic numbers between 1 and 100?"
      ],
      "metadata": {
        "id": "N1c--Cmh0ysj"
      }
    },
    {
      "cell_type": "code",
      "source": [
        "def isPronicNum(num):\n",
        "    isPronic = False\n",
        "    for i in range(1,num+1):\n",
        "        if i*(i+1) == num:\n",
        "            isPronic = True\n",
        "            break\n",
        "    return isPronic\n",
        "\n",
        "print(\"Pronic numbers in range 1 to 100\")\n",
        "pronicNum = []\n",
        "for i in range(1,101):\n",
        "    if isPronicNum(i):\n",
        "        pronicNum.append(i)\n",
        "print(pronicNum)\n",
        "    "
      ],
      "metadata": {
        "id": "knJUqGt800ho",
        "colab": {
          "base_uri": "https://localhost:8080/"
        },
        "outputId": "34b277c5-5e10-4d62-e5e3-10330bec6b0d"
      },
      "execution_count": null,
      "outputs": [
        {
          "output_type": "stream",
          "name": "stdout",
          "text": [
            "Pronic numbers in range 1 to 100\n",
            "[2, 6, 12, 20, 30, 42, 56, 72, 90]\n"
          ]
        }
      ]
    },
    {
      "cell_type": "code",
      "source": [],
      "metadata": {
        "id": "Y0znbrftpbBz"
      },
      "execution_count": null,
      "outputs": []
    }
  ]
}