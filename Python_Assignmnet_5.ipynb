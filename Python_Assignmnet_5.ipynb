{
  "nbformat": 4,
  "nbformat_minor": 0,
  "metadata": {
    "colab": {
      "name": "Assignmnet5.ipynb",
      "provenance": [],
      "collapsed_sections": []
    },
    "kernelspec": {
      "name": "python3",
      "display_name": "Python 3"
    },
    "language_info": {
      "name": "python"
    }
  },
  "cells": [
    {
      "cell_type": "markdown",
      "source": [
        "Write a Python Program to Find LCM?"
      ],
      "metadata": {
        "id": "55TwM4Jx6cKZ"
      }
    },
    {
      "cell_type": "code",
      "execution_count": 3,
      "metadata": {
        "id": "1I6FhzjU6ScU"
      },
      "outputs": [],
      "source": [
        "def LCM(n1,n2):\n",
        "  if n1 > n2:\n",
        "    higher = n1\n",
        "  else:\n",
        "    higher =n2\n",
        "  while(True):\n",
        "    if((higher %n1 ==0) and (higher %n2==0)):\n",
        "      lcm = higher\n",
        "      break\n",
        "    higher = higher+1\n",
        "  return lcm\n"
      ]
    },
    {
      "cell_type": "markdown",
      "source": [
        "Write a Python Program to Find HCF?"
      ],
      "metadata": {
        "id": "B2lgR3qP6fOt"
      }
    },
    {
      "cell_type": "code",
      "source": [
        "def HCF(n1,n2):\n",
        "  while(n2):\n",
        "       n1, n2 = n2, n1 % n2\n",
        "  return n1"
      ],
      "metadata": {
        "id": "BTiMeldF6g0q"
      },
      "execution_count": 8,
      "outputs": []
    },
    {
      "cell_type": "code",
      "source": [
        "n1 = int(input(\"Enter 1st Number: \"))\n",
        "n2= int(input(\"Enter 2nd Number: \"))\n",
        "print(LCM(n1,n2))\n",
        "print(HCF(n1,n2))"
      ],
      "metadata": {
        "colab": {
          "base_uri": "https://localhost:8080/"
        },
        "id": "fUdLgclD9t6I",
        "outputId": "c695445c-d38f-4c3a-f132-3da5b36d6f1b"
      },
      "execution_count": 9,
      "outputs": [
        {
          "output_type": "stream",
          "name": "stdout",
          "text": [
            "Enter 1st Number: 300\n",
            "Enter 2nd Number: 400\n",
            "1200\n",
            "100\n"
          ]
        }
      ]
    },
    {
      "cell_type": "markdown",
      "source": [
        "Write a Python Program to Convert Decimal to Binary, Octal and Hexadecimal?"
      ],
      "metadata": {
        "id": "rfHf0w4M6hp0"
      }
    },
    {
      "cell_type": "code",
      "source": [
        "num=int(input(\"Enter number :\"))\n",
        "\n",
        "print(num, \"in binary : \", bin(num))\n",
        "print(num, \"in Octal : \", oct(num))\n",
        "print(num, \"in Hexadecimal : \",hex(num))"
      ],
      "metadata": {
        "colab": {
          "base_uri": "https://localhost:8080/"
        },
        "id": "lmR-M9sr6jPE",
        "outputId": "9b604897-fc5a-41b5-d4d2-864023d72a9d"
      },
      "execution_count": null,
      "outputs": [
        {
          "output_type": "stream",
          "name": "stdout",
          "text": [
            "Enter number :121\n",
            "121 in binary :  0b1111001\n",
            "121 in Octal :  0o171\n",
            "121 in Hexadecimal :  0x79\n"
          ]
        }
      ]
    },
    {
      "cell_type": "markdown",
      "source": [
        "Write a Python Program To Find ASCII value of a character?"
      ],
      "metadata": {
        "id": "elr73ZoM6lIT"
      }
    },
    {
      "cell_type": "code",
      "source": [
        "value = str(input(\"Enter character: \"))\n",
        "print(\"The ASCII value of \"+value +\"is \", ord(value))"
      ],
      "metadata": {
        "colab": {
          "base_uri": "https://localhost:8080/"
        },
        "id": "1eDcX6eF6lkk",
        "outputId": "b24d70dd-e77c-44f2-fc9a-0de7ab3ae240"
      },
      "execution_count": null,
      "outputs": [
        {
          "output_type": "stream",
          "name": "stdout",
          "text": [
            "Enter character: u\n",
            "The ASCII value of uis  117\n"
          ]
        }
      ]
    },
    {
      "cell_type": "markdown",
      "source": [
        "Write a Python Program to Make a Simple Calculator with 4 basic mathematical operations?"
      ],
      "metadata": {
        "id": "vnRcltCk6nHM"
      }
    },
    {
      "cell_type": "code",
      "source": [
        "number1 = int(input(\"Enter first Number: \"))\n",
        "number2 = int(input(\"Enter second Number: \"))\n",
        "choice = str(input(\"Enter choice:[+,-,*,/] \"))\n",
        "if choice =='+':\n",
        "  print(number1+number2)\n",
        "elif choice =='-':\n",
        "  print(number1-number2)\n",
        "elif choice =='*':\n",
        "  print(number1*number2)\n",
        "elif choice ==\"/\":\n",
        "  print(number1/number2)\n",
        "else:\n",
        "  print(\"invalid choice\") "
      ],
      "metadata": {
        "colab": {
          "base_uri": "https://localhost:8080/"
        },
        "id": "UL55ITtj6njQ",
        "outputId": "45676589-0e1c-4821-f13d-f1923a717670"
      },
      "execution_count": null,
      "outputs": [
        {
          "output_type": "stream",
          "name": "stdout",
          "text": [
            "Enter first Number: 2\n",
            "Enter second Number: 10\n",
            "Enter choice:[+,-,*,/] *\n",
            "20\n"
          ]
        }
      ]
    },
    {
      "cell_type": "code",
      "source": [
        ""
      ],
      "metadata": {
        "id": "zu1WRF3y7UQj"
      },
      "execution_count": null,
      "outputs": []
    }
  ]
}